{
 "cells": [
  {
   "cell_type": "markdown",
   "metadata": {},
   "source": [
    "# The Locker Problem"
   ]
  },
  {
   "cell_type": "markdown",
   "metadata": {},
   "source": [
    "![Problem Statement](lockerproblem.jpg)"
   ]
  },
  {
   "cell_type": "markdown",
   "metadata": {},
   "source": [
    "There are lots of ways to explore this problem, and we encourage you to spend some time thinking about it on your own. Below, we are going to give you some tools to explore this problem with programming. "
   ]
  },
  {
   "cell_type": "markdown",
   "metadata": {},
   "source": [
    "We've created a Locker object that will let you simulate this problem. Each locker has 4 properties: \n",
    "- id: the locker number)\n",
    "- isOpen: a boolean indicating whether the locker is open\n",
    "- flipCount: an integer for keeping track of the numebr of times the locker was openened\n",
    "- students: a list of all of the students who open or closed the locker"
   ]
  },
  {
   "cell_type": "code",
   "execution_count": 1,
   "metadata": {},
   "outputs": [],
   "source": [
    "from Locker import Locker"
   ]
  },
  {
   "cell_type": "markdown",
   "metadata": {},
   "source": [
    "Let's create a locker. When we create a locker, it will be initialized with an id of 1, flipCount of 0, and closed. "
   ]
  },
  {
   "cell_type": "code",
   "execution_count": 2,
   "metadata": {
    "scrolled": true
   },
   "outputs": [],
   "source": [
    "locker1 = Locker()"
   ]
  },
  {
   "cell_type": "markdown",
   "metadata": {},
   "source": [
    "We can \"flip\" the state of the locker with the flip() funciton. This function requires you also pass it a number indicitating the number of the studnet who \"flipped\" the locker. In this case, we will assume student 1 flips the locker. "
   ]
  },
  {
   "cell_type": "code",
   "execution_count": 3,
   "metadata": {},
   "outputs": [],
   "source": [
    "locker1.flip(1)"
   ]
  },
  {
   "cell_type": "markdown",
   "metadata": {},
   "source": [
    "We can see the status of the locker using the status() function. "
   ]
  },
  {
   "cell_type": "code",
   "execution_count": 4,
   "metadata": {},
   "outputs": [
    {
     "name": "stdout",
     "output_type": "stream",
     "text": [
      "1: open: 1 [1]\n"
     ]
    }
   ],
   "source": [
    "print(locker1.status())"
   ]
  },
  {
   "cell_type": "markdown",
   "metadata": {},
   "source": [
    "The status function outputs the number of the locker, followed by its open status, followed by the number of times it has been openend and the list of students who opened it. "
   ]
  },
  {
   "cell_type": "markdown",
   "metadata": {},
   "source": [
    "Let's delete the locker we created. Python automatically numbers each new locker sequentially, so if we want to create a new locker starting with 1, we need to call the reset function. "
   ]
  },
  {
   "cell_type": "markdown",
   "metadata": {},
   "source": [
    "To create an entire set of lockers, we can use a for loop. This command would create 10 lockers, for example."
   ]
  },
  {
   "cell_type": "code",
   "execution_count": 5,
   "metadata": {},
   "outputs": [],
   "source": [
    "locker1.reset() #re-initialize counter to start at 1\n",
    "Lockers=[]  #create an empty array to store our lockers\n",
    "for i in range(10): #repeat 10 times\n",
    "    l = Locker() #create a locker\n",
    "    Lockers.append(l) #add l to our list of lockers"
   ]
  },
  {
   "cell_type": "markdown",
   "metadata": {},
   "source": [
    "We can use a similar loop to print the status of our collection of locekrs:"
   ]
  },
  {
   "cell_type": "code",
   "execution_count": 6,
   "metadata": {},
   "outputs": [
    {
     "name": "stdout",
     "output_type": "stream",
     "text": [
      "1: closed: 0 []\n",
      "2: closed: 0 []\n",
      "3: closed: 0 []\n",
      "4: closed: 0 []\n",
      "5: closed: 0 []\n",
      "6: closed: 0 []\n",
      "7: closed: 0 []\n",
      "8: closed: 0 []\n",
      "9: closed: 0 []\n",
      "10: closed: 0 []\n"
     ]
    }
   ],
   "source": [
    "for l in Lockers:\n",
    "    print(l.status())"
   ]
  },
  {
   "cell_type": "markdown",
   "metadata": {},
   "source": [
    "Now we could simulate 10 students sequentially flipping each of the lockers"
   ]
  },
  {
   "cell_type": "code",
   "execution_count": 8,
   "metadata": {},
   "outputs": [],
   "source": [
    "for i in range(1,11): #the first 10 students\n",
    "    for l in Lockers:\n",
    "        if l.id % i == 0:   #if the locker number is a multiple of the student\n",
    "            l.flip(i)\n",
    "            "
   ]
  },
  {
   "cell_type": "markdown",
   "metadata": {},
   "source": [
    "And we can view their status again: "
   ]
  },
  {
   "cell_type": "code",
   "execution_count": 9,
   "metadata": {},
   "outputs": [
    {
     "name": "stdout",
     "output_type": "stream",
     "text": [
      "1: open: 1 [1]\n",
      "2: closed: 2 [1, 2]\n",
      "3: closed: 2 [1, 3]\n",
      "4: open: 3 [1, 2, 4]\n",
      "5: closed: 2 [1, 5]\n",
      "6: closed: 4 [1, 2, 3, 6]\n",
      "7: closed: 2 [1, 7]\n",
      "8: closed: 4 [1, 2, 4, 8]\n",
      "9: open: 3 [1, 3, 9]\n",
      "10: closed: 4 [1, 2, 5, 10]\n"
     ]
    }
   ],
   "source": [
    "for l in Lockers:\n",
    "    print(l.status())"
   ]
  },
  {
   "cell_type": "markdown",
   "metadata": {},
   "source": [
    "There's lots of interesting things to notice and wonder in the the output of this small test run. What do you see? What do you wonder? "
   ]
  },
  {
   "cell_type": "markdown",
   "metadata": {},
   "source": [
    "## Your turn to explore"
   ]
  },
  {
   "cell_type": "markdown",
   "metadata": {},
   "source": [
    "Take some time to explore this problem further on your own. You might start by trying to modify this code to print the status of the first 200 lockers—what patterns do you see. Can you predict the status of locker 123, without running all of this code? \n",
    "\n",
    "If you're interested in seeing a visual representation of this, you might check out this [Wolfram Alpha project](https://demonstrations.wolfram.com/TheLockerProblem/).\n",
    "\n",
    "Could you write a function that would give the status of a given locker without needing to actually simulate all of the students opening and closing the lockers? \n",
    "\n",
    "Can you create a function that will report the number of students who changed the state of a locker? \n",
    "\n",
    "What happens if you change the conditions of this problem? What happens if one student, e.g. student 12, doesn't change the state of any lockers? \n",
    "\n",
    "What variations can you think of? "
   ]
  },
  {
   "cell_type": "code",
   "execution_count": null,
   "metadata": {},
   "outputs": [],
   "source": []
  }
 ],
 "metadata": {
  "kernelspec": {
   "display_name": "Python 2",
   "language": "python",
   "name": "python2"
  },
  "language_info": {
   "codemirror_mode": {
    "name": "ipython",
    "version": 2
   },
   "file_extension": ".py",
   "mimetype": "text/x-python",
   "name": "python",
   "nbconvert_exporter": "python",
   "pygments_lexer": "ipython2",
   "version": "2.7.15"
  }
 },
 "nbformat": 4,
 "nbformat_minor": 2
}
