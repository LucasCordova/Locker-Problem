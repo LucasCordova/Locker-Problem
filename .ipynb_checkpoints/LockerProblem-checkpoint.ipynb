{
 "cells": [
  {
   "cell_type": "markdown",
   "metadata": {},
   "source": [
    "# The Locker Problem"
   ]
  },
  {
   "cell_type": "markdown",
   "metadata": {},
   "source": [
    "![Problem Statement](lockerproblem.jpg)"
   ]
  },
  {
   "cell_type": "markdown",
   "metadata": {},
   "source": [
    "There are lots of ways to explore this problem, and we encourage you to spend some time thinking about it on your own. Below, we are going to give you some tools to explore this problem with programming. "
   ]
  },
  {
   "cell_type": "markdown",
   "metadata": {},
   "source": [
    "We've created a Locker object that will let you simulate this problem. Each locker has 4 properties: \n",
    "- id: the locker number)\n",
    "- isOpen: a boolean indicating whether the locker is open\n",
    "- flipCount: an integer for keeping track of the numebr of times the locker was openened\n",
    "- students: a list of all of the students who open or closed the locker"
   ]
  },
  {
   "cell_type": "code",
   "execution_count": 12,
   "metadata": {},
   "outputs": [],
   "source": [
    "from Locker import Locker"
   ]
  },
  {
   "cell_type": "markdown",
   "metadata": {},
   "source": [
    "Let's create a locker. When we create a locker, it will be initialized with an id of 1, flipCount of 0, and closed. "
   ]
  },
  {
   "cell_type": "code",
   "execution_count": 13,
   "metadata": {
    "scrolled": true
   },
   "outputs": [],
   "source": [
    "locker1 = Locker()"
   ]
  },
  {
   "cell_type": "markdown",
   "metadata": {},
   "source": [
    "We can \"flip\" the state of the locker with the flip() funciton. This function requires you also pass it a number indicitating the number of the studnet who \"flipped\" the locker. In this case, we will assume student 1 flips the locker. "
   ]
  },
  {
   "cell_type": "code",
   "execution_count": 14,
   "metadata": {},
   "outputs": [],
   "source": [
    "locker1.flip(1)"
   ]
  },
  {
   "cell_type": "markdown",
   "metadata": {},
   "source": [
    "We can see the status of the locker using the status() function. "
   ]
  },
  {
   "cell_type": "code",
   "execution_count": 15,
   "metadata": {},
   "outputs": [
    {
     "name": "stdout",
     "output_type": "stream",
     "text": [
      "11: open: 1 [1]\n"
     ]
    }
   ],
   "source": [
    "print(locker1.status())"
   ]
  },
  {
   "cell_type": "markdown",
   "metadata": {},
   "source": [
    "The status function outputs the number of the locker, followed by its open status, followed by the number of times it has been openend and the list of students who opened it. "
   ]
  },
  {
   "cell_type": "markdown",
   "metadata": {},
   "source": [
    "Let's delete the locker we created. Python automatically numbers each new locker sequentially, so if we want to create a new locker starting with 1, we need to call the reset function. "
   ]
  },
  {
   "cell_type": "markdown",
   "metadata": {},
   "source": [
    "To create an entire set of lockers, we can use a for loop. This command would create 10 lockers, for example."
   ]
  },
  {
   "cell_type": "code",
   "execution_count": 27,
   "metadata": {},
   "outputs": [],
   "source": [
    "locker1.reset() #re-initialize counter to start at 1\n",
    "Lockers=[]  #create an empty array to store our lockers\n",
    "for i in range(10): #repeat 10 times\n",
    "    l = Locker() #create a locker\n",
    "    Lockers.append(l) #add l to our list of lockers"
   ]
  },
  {
   "cell_type": "markdown",
   "metadata": {},
   "source": [
    "We can use a similar loop to print the status of our collection of locekrs:"
   ]
  },
  {
   "cell_type": "code",
   "execution_count": 28,
   "metadata": {},
   "outputs": [
    {
     "name": "stdout",
     "output_type": "stream",
     "text": [
      "1: closed: 0 []\n",
      "2: closed: 0 []\n",
      "3: closed: 0 []\n",
      "4: closed: 0 []\n",
      "5: closed: 0 []\n",
      "6: closed: 0 []\n",
      "7: closed: 0 []\n",
      "8: closed: 0 []\n",
      "9: closed: 0 []\n",
      "10: closed: 0 []\n"
     ]
    }
   ],
   "source": [
    "for l in Lockers:\n",
    "    print(l.status())"
   ]
  },
  {
   "cell_type": "markdown",
   "metadata": {},
   "source": [
    "Now you have a set of lockers that you can begin to experiment with. Using your knowledge of iteration (for loops) and conditionals (if statements), let's see how you can model this problem. \n",
    "\n",
    "Let's start by just trying to open every locker, using our first student. You'll need a loop to loop over every locker. When we are done, we can go ahead and print the status of the lockers, too. "
   ]
  },
  {
   "cell_type": "code",
   "execution_count": 18,
   "metadata": {},
   "outputs": [],
   "source": [
    "for l in Lockers:\n",
    "    l.flip(1) #student 1 flips locker l"
   ]
  },
  {
   "cell_type": "code",
   "execution_count": 19,
   "metadata": {},
   "outputs": [
    {
     "name": "stdout",
     "output_type": "stream",
     "text": [
      "1: open: 1 [1]\n",
      "2: open: 1 [1]\n",
      "3: open: 1 [1]\n",
      "4: open: 1 [1]\n",
      "5: open: 1 [1]\n",
      "6: open: 1 [1]\n",
      "7: open: 1 [1]\n",
      "8: open: 1 [1]\n",
      "9: open: 1 [1]\n",
      "10: open: 1 [1]\n"
     ]
    }
   ],
   "source": [
    "for l in Lockers:\n",
    "    print(l.status())"
   ]
  },
  {
   "cell_type": "markdown",
   "metadata": {},
   "source": [
    "Later students should not flip every single locker, they should only flip lockers that have numbers that are multiples of that student's number. This will require you to use a conditional statement. One easy way to test if a number is a multiple of another number is to use the mod operator, %, which gives you the remainder when the first argument is divided by the second argument. See this example."
   ]
  },
  {
   "cell_type": "code",
   "execution_count": 21,
   "metadata": {
    "scrolled": true
   },
   "outputs": [
    {
     "name": "stdout",
     "output_type": "stream",
     "text": [
      "0\n",
      "1\n",
      "17\n"
     ]
    }
   ],
   "source": [
    "print (9 % 3) #9 is a multiple of 3\n",
    "print (9 % 2) #9 is not a multiple of 2\n",
    "print (137 % 40) #140 is not a multiple of 40"
   ]
  },
  {
   "cell_type": "markdown",
   "metadata": {},
   "source": [
    "How can you use this argument to build a test for a conditional (if statement) that will be true when the first argument is a multiple of the second? Here's a small example get you started—here's a way to have the computer test if 2+4 is equal to 5. "
   ]
  },
  {
   "cell_type": "code",
   "execution_count": 24,
   "metadata": {},
   "outputs": [
    {
     "name": "stdout",
     "output_type": "stream",
     "text": [
      "False\n"
     ]
    }
   ],
   "source": [
    "print 2 + 4 == 5"
   ]
  },
  {
   "cell_type": "markdown",
   "metadata": {},
   "source": [
    "### Build the algorithm###\n",
    "\n",
    "Use the ideas above to build an algorithm that will simulate the first 10 students flipping the first 10 lockers as described in the problem above.  "
   ]
  },
  {
   "cell_type": "code",
   "execution_count": null,
   "metadata": {},
   "outputs": [],
   "source": []
  },
  {
   "cell_type": "markdown",
   "metadata": {},
   "source": [
    "Here's an example of what successful output might look like: "
   ]
  },
  {
   "cell_type": "code",
   "execution_count": null,
   "metadata": {},
   "outputs": [],
   "source": [
    "1: open: 1 [1]\n",
    "2: closed: 2 [1, 2]\n",
    "3: closed: 2 [1, 3]\n",
    "4: open: 3 [1, 2, 4]\n",
    "5: closed: 2 [1, 5]\n",
    "6: closed: 4 [1, 2, 3, 6]\n",
    "7: closed: 2 [1, 7]\n",
    "8: closed: 4 [1, 2, 4, 8]\n",
    "9: open: 3 [1, 3, 9]\n",
    "10: closed: 4 [1, 2, 5, 10]"
   ]
  },
  {
   "cell_type": "markdown",
   "metadata": {},
   "source": [
    "## Your turn to explore"
   ]
  },
  {
   "cell_type": "raw",
   "metadata": {},
   "source": [
    "Take some time to explore this problem further on your own. You might start by trying to modify your code to create a set of 200 lockers, and then simulate 200 students flipping them according to the problem. What patterns do you see? Can you predict the status of locker 123, without running all of this code? \n",
    "\n",
    "If you're interested in seeing a visual representation of this, you might check out this [Wolfram Alpha project](https://demonstrations.wolfram.com/TheLockerProblem/).\n",
    "\n",
    "Could you write a function that would give the status of a given locker without needing to actually simulate all of the students opening and closing the lockers? \n",
    "\n",
    "Can you create a function that will report the number of students who changed the state of a locker? \n",
    "\n",
    "What happens if you change the conditions of this problem? What happens if one student, e.g. student 12, doesn't change the state of any lockers? \n",
    "\n",
    "What variations can you think of? "
   ]
  },
  {
   "cell_type": "code",
   "execution_count": null,
   "metadata": {},
   "outputs": [],
   "source": []
  }
 ],
 "metadata": {
  "kernelspec": {
   "display_name": "Python 2",
   "language": "python",
   "name": "python2"
  },
  "language_info": {
   "codemirror_mode": {
    "name": "ipython",
    "version": 2
   },
   "file_extension": ".py",
   "mimetype": "text/x-python",
   "name": "python",
   "nbconvert_exporter": "python",
   "pygments_lexer": "ipython2",
   "version": "2.7.15"
  }
 },
 "nbformat": 4,
 "nbformat_minor": 2
}
